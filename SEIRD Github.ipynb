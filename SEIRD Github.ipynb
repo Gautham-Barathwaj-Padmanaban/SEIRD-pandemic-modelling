{
 "cells": [
  {
   "cell_type": "markdown",
   "metadata": {},
   "source": [
    "\n",
    "### SEIRD model with Logistic Function and real world comparisons"
   ]
  },
  {
   "cell_type": "code",
   "execution_count": 17,
   "metadata": {},
   "outputs": [],
   "source": [
    "#SEIRD FUNCTION BLOCK\n",
    "\n",
    "import numpy\n",
    "import matplotlib.pyplot as plt\n",
    "from csv import reader\n",
    "def SEIRD (a,b,c,d,e,S0,E0,I0,R0,D0,days,steps,L,k,f):\n",
    "    \n",
    "    #IMPLEMENTATION OF LOGISTIC FUNCTION - No logistic function if Lockdown day is set to 0\n",
    "    \n",
    "    beta=numpy.zeros(days*steps) #expected amount of people an infected person infects per day\n",
    "    for i in range((days*steps)):\n",
    "        if L==0:\n",
    "            beta[i]=a\n",
    "        else:\n",
    "            beta[i]=((a-(a/f))/(1+numpy.exp(-k*(L-(i/steps)))))+(a/f) \n",
    "\n",
    "    #INITIALIZATION\n",
    "    \n",
    "    gamma=1/b #proportion of infected recovering per day\n",
    "    delta=1/c #proportion of exposed getting infectious per day\n",
    "    rho=1/d #rate at which people die\n",
    "    alpha=e #death rate (probability)\n",
    "    \n",
    "    S=numpy.zeros(days*steps)\n",
    "    E=numpy.zeros(days*steps)\n",
    "    I=numpy.zeros(days*steps)\n",
    "    R=numpy.zeros(days*steps)\n",
    "    D=numpy.zeros(days*steps)\n",
    "    \n",
    "    N=S0+E0+I0+R0+D0\n",
    "    \n",
    "    S[0]=S0\n",
    "    E[0]=E0\n",
    "    I[0]=I0\n",
    "    R[0]=R0\n",
    "    D[0]=D0\n",
    "    pe=0\n",
    "    pi=0\n",
    "    \n",
    "    #ITERATIONS FOR SEIRD MODEL\n",
    "    \n",
    "    for i in range((days*steps)-1): \n",
    "        \n",
    "        #Derivatives\n",
    "        dS=-beta[i]*I[i]*S[i]/N\n",
    "        dE=(beta[i]*I[i]*S[i]/N)-(delta*E[i])\n",
    "        dI=(delta*E[i])-(rho*alpha*I[i])-(gamma*(1-alpha)*I[i])\n",
    "        dR=(gamma*(1-alpha)*I[i])\n",
    "        dD=(rho*alpha*I[i])\n",
    "        #First order Taylor Series Expansion(Forward difference)(Delta t = 1/steps)\n",
    "        S[i+1]=S[i]+dS/steps  \n",
    "        E[i+1]=E[i]+dE/steps\n",
    "        I[i+1]=I[i]+dI/steps\n",
    "        R[i+1]=R[i]+dR/steps\n",
    "        D[i+1]=D[i]+dD/steps\n",
    "        #Finding maxima of exposure and infectious days with quantity\n",
    "        if E[i+1]>E[i]:\n",
    "            pe=i+1\n",
    "        if I[i+1]>I[i]:\n",
    "            pi=i+1\n",
    "                        \n",
    "    #PLOTTING OF SEIRD MODEL-MAIN GRAPH\n",
    "    \n",
    "    plt.plot(numpy.linspace(0,days,days*steps),S,'b-',label='Susceptible')\n",
    "    plt.plot(numpy.linspace(0,days,days*steps),E,'y-',label='Exposed')\n",
    "    plt.plot(numpy.linspace(0,days,days*steps),I,'r-',label='Infected')\n",
    "    plt.plot(numpy.linspace(0,days,days*steps),R,'g-',label='Recovered')\n",
    "    plt.plot(numpy.linspace(0,days,days*steps),D,'k-',label='Dead')\n",
    "    plt.xlabel('Number of days')\n",
    "    plt.ylabel('Population')\n",
    "    plt.title('Pandemic progression')\n",
    "    plt.legend(loc='upper center',bbox_to_anchor=(1.1,0.5)) #anchor legend to plotting box\n",
    "    plt.rcParams[\"figure.figsize\"]=(12,4) #change size of plot\n",
    "    plt.show()\n",
    "    \n",
    "    #PRINTING IMPORTANT DATA TRENDS\n",
    "    \n",
    "    print(\"Day:\",days,\"\\n\",\"Infectious:\",int(I[days*steps-1]),\"\\n\",\"Recovered:\",int(R[days*steps-1]),\"\\n\",\"Dead:\",int(D[days*steps-1]),\"\\n\",\"Peak exposure day:\",int(pe/steps),\"- number exposed:\",int(E[pe]),\"\\n\",\"Peak infected day:\",int(pi/steps),\"- number infected:\",int(E[pi]),\"\\n\")\n",
    "    \n",
    "    #PLOTTING OF RECOVERIES AND DEATHS PER DAY BAR GRAPH\n",
    "    \n",
    "    pr=[0]\n",
    "    pd=[0]\n",
    "    rmax=0\n",
    "    rday=0\n",
    "    dday=0 #LOL\n",
    "    dmax=0\n",
    "    for i in range(steps,days*steps,steps):\n",
    "        pr.append(R[i]-R[i-steps])\n",
    "        pd.append(D[i]-D[i-steps])\n",
    "        if pr[-1]>pr[-2]:\n",
    "            rmax=int(pr[-1])\n",
    "            rday=int(i/steps)\n",
    "        if pd[-1]>pd[-2]:\n",
    "            dmax=int(pd[-1])\n",
    "            dday=int(i/steps)\n",
    "    plt.bar(numpy.linspace(0,days,days),pr,color='green')\n",
    "    plt.xlabel('Number of days')\n",
    "    plt.ylabel('Population')\n",
    "    plt.title('Recoveries in a given day (SEIRD)')\n",
    "    plt.legend(loc='upper center',bbox_to_anchor=(1.1,0.5)) #anchor legend to plotting box\n",
    "    plt.rcParams[\"figure.figsize\"]=(12,4) #change size of plot\n",
    "    plt.show()\n",
    "    print(\"Maximum Recoveries on day \",rday,\", with \",rmax,\" recoveries in that day\")\n",
    "\n",
    "    plt.bar(numpy.linspace(0,days,days),pd,color='black')\n",
    "    plt.xlabel('Number of days')\n",
    "    plt.ylabel('Population')\n",
    "    plt.title('Deaths in a given day (SEIRD)')\n",
    "    plt.legend(loc='upper center',bbox_to_anchor=(1.1,0.5)) #anchor legend to plotting box\n",
    "    plt.rcParams[\"figure.figsize\"]=(12,4) #change size of plot\n",
    "    plt.show()\n",
    "    print(\"Maximum Deaths on day \",dday,\", with \",dmax,\" deaths in that day\")\n",
    "\n",
    "\n",
    "    #PLOTTING OF CHANGE IN NUMBER OF PEOPLE PERSON INFECTS PER DAY (Showing the logistic function)\n",
    "\n",
    "    plt.plot(numpy.linspace(0,days,days*steps),beta,'p-',label='beta')\n",
    "    plt.xlabel('Number of days')\n",
    "    plt.ylabel('value of a')\n",
    "    plt.title('logistic Function')\n",
    "    plt.legend(loc='upper center',bbox_to_anchor=(1.1,0.5)) #anchor legend to plotting box\n",
    "    plt.rcParams[\"figure.figsize\"]=(12,4) #change size of plot\n",
    "    plt.show()\n",
    "    \n"
   ]
  },
  {
   "cell_type": "markdown",
   "metadata": {},
   "source": [
    "<br>\n",
    "<b>SEIRD function parameters</b><br><br>\n",
    "a=expected amount of people an infected person infects per day<br>\n",
    "b=number of days infected person can spread disease = <b>10 days</b> for the coronavirus<br>\n",
    "c=Incubation period for infection = Around <b>4 days</b> for the coronavirus (3.9)<br>\n",
    "d=Number of days to die = Around <b>13 days</b> for the coronavirus<br>\n",
    "e=death rate (<b>10%</b> taken on average for the coronavirus) <br><br>\n",
    "_0 REPRESENTS INITIAL POPULULATION IN EACH COMPARTMENT : <br>\n",
    "<b>S0 is taken to be the population of the country as a whole</b><br>\n",
    "E0 is taken to be <b>10</b> as when the first infectious case arises there must already exist some exposed people<br>\n",
    "I0 is taken as one to represent the <b>first infectious case</b>. I0 is compared to the infected population<br>\n",
    "R0 and D0 is taken to be <b>zero</b><br><br>\n",
    "days=number of days to be simulated<br>\n",
    "step=no of iterations per day steps<b>(use divisors of 20)</b><br>\n",
    "<b>L=Day lockdown is imposed</b><br>\n",
    "k and f are constants of the logistic function<br>\n",
    "n is a counter to compare countries<br><br>"
   ]
  },
  {
   "cell_type": "markdown",
   "metadata": {},
   "source": [
    "The model has been provided initial conditions so as to represent the time when the first infectious case occurs/identified. Thus the number of infectious people was taken as one. The entire population of the country has been taken in the susceptible category. A conservative amount of 10 people in the exposed category was taken which seemed appropriate, given that the occurence of cases henceforth has to start from an initial count of people in the exposed category. The recovered and deceased population has been initially taken to be zero. A simple forward difference first order expansion of the Taylor Series was implemented.<br>\n",
    "\n",
    "A logistic function was utilized in order to prevent an overestimation of population in different compartments, and also to simulate a time varying change in parameter <b>a</b> due to the effects of a lockdown (social distancing). The logistic function allowed to reduce the parameter <b>a</b> gradually over time, which is an accurate representation of increased social distancing. <b>While <b>f</b> represents how effective social distancing has taken place(higher the better), <b>k</b> represents the transition rate of <b>a</b> from the higher to lower value in due process of lockdown (higher represents quicker, abrupt transition)</b>. Thus the logistic function is controlled by the lockdown day <b>L</b> and variables <b>f</b> and <b>k</b>. A graph has been provided at the end of each simulation to show this function.\n"
   ]
  },
  {
   "cell_type": "markdown",
   "metadata": {},
   "source": [
    "The code below allows interaction to tweak variables to observe the movement of the graph and understand trends. The <b>b,c,d,e</b> values for the coronavirus pandemic have been shown above and inputted as the default value. The initial population of the country can be inputted in the code block as given by the comment, with the number of days and steps per day also present. Run the simulation after entering the values in the code block below, following which you will be able to use the sliders provided to observe how the variables affect the dynamics of the pandemic. <b>(Note the change in y axis limits as the graph changes)(Use L=0 to simulate a no lockdown scenario)(Run all the cells TWICE to get a good size of the graph if the graph appears to be shrunk, INCREASE VALUES SLOWLY WITH KEYBOARD ARROW KEYS TO VISUALIZE THE EFFECT OF EACH VARIABLE ON THE VARIOUS COMPARTMENTS OF THE POPULATION)</b><br><br>"
   ]
  },
  {
   "cell_type": "code",
   "execution_count": 19,
   "metadata": {
    "scrolled": false
   },
   "outputs": [
    {
     "data": {
      "application/vnd.jupyter.widget-view+json": {
       "model_id": "f8092c4f1f514ac6b46346d981ecf30c",
       "version_major": 2,
       "version_minor": 0
      },
      "text/html": [
       "<p>Failed to display Jupyter Widget of type <code>interactive</code>.</p>\n",
       "<p>\n",
       "  If you're reading this message in Jupyter Notebook or JupyterLab, it may mean\n",
       "  that the widgets JavaScript is still loading. If this message persists, it\n",
       "  likely means that the widgets JavaScript library is either not installed or\n",
       "  not enabled. See the <a href=\"https://ipywidgets.readthedocs.io/en/stable/user_install.html\">Jupyter\n",
       "  Widgets Documentation</a> for setup instructions.\n",
       "</p>\n",
       "<p>\n",
       "  If you're reading this message in another notebook frontend (for example, a static\n",
       "  rendering on GitHub or <a href=\"https://nbviewer.jupyter.org/\">NBViewer</a>),\n",
       "  it may mean that your frontend doesn't currently support widgets.\n",
       "</p>\n"
      ],
      "text/plain": [
       "interactive(children=(FloatSlider(value=0.6, description='a', max=1.5, step=0.01), FloatSlider(value=10.0, description='b', max=20.0), FloatSlider(value=3.9, description='c', max=20.0), FloatSlider(value=13.0, description='d', max=20.0, step=0.5), FloatSlider(value=0.1, description='e', max=1.0, step=0.01), FloatSlider(value=28.0, description='L', max=120.0, step=1.0), FloatSlider(value=0.08, description='k', max=0.5, step=0.01), FloatSlider(value=9.0, description='f', max=15.0, min=1.0, step=0.5), Output()), _dom_classes=('widget-interact',))"
      ]
     },
     "metadata": {},
     "output_type": "display_data"
    },
    {
     "data": {
      "text/plain": [
       "<function __main__.SEIRD>"
      ]
     },
     "execution_count": 19,
     "metadata": {},
     "output_type": "execute_result"
    }
   ],
   "source": [
    "from ipywidgets import interact, interactive, fixed, interact_manual\n",
    "import ipywidgets as widgets\n",
    "Si=10000 #Input initial population \n",
    "Ei=10\n",
    "Ii=1\n",
    "Ri=0\n",
    "Di=0\n",
    "ndays=100 #Input number of days to be simulated\n",
    "nsteps=10 #Input number of time steps per day\n",
    "interact(SEIRD,a=widgets.FloatSlider(min=0, max=1.5, step=0.01, value=0.6),b=widgets.FloatSlider(min=0, max=20, step=0.1, value=10),c=widgets.FloatSlider(min=0, max=20, step=0.1, value=3.90),d=widgets.FloatSlider(min=0, max=20, step=0.5, value=13),e=widgets.FloatSlider(min=0, max=1, step=0.01, value=0.1),S0=fixed(Si),E0=fixed(Ei),I0=fixed(Ii),R0=fixed(Ri),D0=fixed(Di),days=fixed(ndays),steps=fixed(nsteps),L=widgets.FloatSlider(min=0, max=120, step=1, value=28),k=widgets.FloatSlider(min=0, max=0.5, step=0.01, value=0.08),f=widgets.FloatSlider(min=1, max=15, step=0.5, value=9))"
   ]
  },
  {
   "cell_type": "code",
   "execution_count": null,
   "metadata": {},
   "outputs": [],
   "source": []
  }
 ],
 "metadata": {
  "kernelspec": {
   "display_name": "Python 3",
   "language": "python",
   "name": "python3"
  },
  "language_info": {
   "codemirror_mode": {
    "name": "ipython",
    "version": 3
   },
   "file_extension": ".py",
   "mimetype": "text/x-python",
   "name": "python",
   "nbconvert_exporter": "python",
   "pygments_lexer": "ipython3",
   "version": "3.6.3"
  }
 },
 "nbformat": 4,
 "nbformat_minor": 2
}
